{
 "cells": [
  {
   "cell_type": "code",
   "execution_count": 1,
   "metadata": {},
   "outputs": [],
   "source": [
    "import pandas as pd\n",
    "import matplotlib.pyplot as plt\n",
    "import os\n",
    "import numpy as np\n",
    "%matplotlib inline\n",
    "import seaborn as sb\n",
    "import missingno as msn\n",
    "sb.set()"
   ]
  },
  {
   "cell_type": "code",
   "execution_count": 2,
   "metadata": {},
   "outputs": [
    {
     "data": {
      "text/html": [
       "<div>\n",
       "<style scoped>\n",
       "    .dataframe tbody tr th:only-of-type {\n",
       "        vertical-align: middle;\n",
       "    }\n",
       "\n",
       "    .dataframe tbody tr th {\n",
       "        vertical-align: top;\n",
       "    }\n",
       "\n",
       "    .dataframe thead th {\n",
       "        text-align: right;\n",
       "    }\n",
       "</style>\n",
       "<table border=\"1\" class=\"dataframe\">\n",
       "  <thead>\n",
       "    <tr style=\"text-align: right;\">\n",
       "      <th></th>\n",
       "      <th>WD_WS</th>\n",
       "      <th>VISIBILITY</th>\n",
       "      <th>WEATHER</th>\n",
       "      <th>LOWEST_CLOUD</th>\n",
       "      <th>LOW_CLOUD</th>\n",
       "      <th>MID_CLOUD</th>\n",
       "      <th>CURRENT_TEMP</th>\n",
       "      <th>DEW_POINT</th>\n",
       "      <th>RH</th>\n",
       "      <th>WS</th>\n",
       "    </tr>\n",
       "  </thead>\n",
       "  <tbody>\n",
       "    <tr>\n",
       "      <th>0</th>\n",
       "      <td>4</td>\n",
       "      <td>1000</td>\n",
       "      <td>BR</td>\n",
       "      <td>0</td>\n",
       "      <td>NSC</td>\n",
       "      <td>0</td>\n",
       "      <td>16</td>\n",
       "      <td>13</td>\n",
       "      <td>82.385952</td>\n",
       "      <td>2.056</td>\n",
       "    </tr>\n",
       "    <tr>\n",
       "      <th>1</th>\n",
       "      <td>5</td>\n",
       "      <td>1000</td>\n",
       "      <td>FU</td>\n",
       "      <td>0</td>\n",
       "      <td>NSC</td>\n",
       "      <td>0</td>\n",
       "      <td>18</td>\n",
       "      <td>13</td>\n",
       "      <td>72.582142</td>\n",
       "      <td>2.570</td>\n",
       "    </tr>\n",
       "    <tr>\n",
       "      <th>2</th>\n",
       "      <td>4</td>\n",
       "      <td>1100</td>\n",
       "      <td>FU</td>\n",
       "      <td>0</td>\n",
       "      <td>NSC</td>\n",
       "      <td>0</td>\n",
       "      <td>20</td>\n",
       "      <td>13</td>\n",
       "      <td>64.068289</td>\n",
       "      <td>2.056</td>\n",
       "    </tr>\n",
       "    <tr>\n",
       "      <th>3</th>\n",
       "      <td>4</td>\n",
       "      <td>1100</td>\n",
       "      <td>FU</td>\n",
       "      <td>0</td>\n",
       "      <td>NSC</td>\n",
       "      <td>0</td>\n",
       "      <td>20</td>\n",
       "      <td>13</td>\n",
       "      <td>64.068289</td>\n",
       "      <td>2.056</td>\n",
       "    </tr>\n",
       "    <tr>\n",
       "      <th>4</th>\n",
       "      <td>4</td>\n",
       "      <td>1200</td>\n",
       "      <td>FU</td>\n",
       "      <td>0</td>\n",
       "      <td>NSC</td>\n",
       "      <td>0</td>\n",
       "      <td>21</td>\n",
       "      <td>13</td>\n",
       "      <td>60.236209</td>\n",
       "      <td>2.056</td>\n",
       "    </tr>\n",
       "  </tbody>\n",
       "</table>\n",
       "</div>"
      ],
      "text/plain": [
       "   WD_WS  VISIBILITY WEATHER LOWEST_CLOUD LOW_CLOUD MID_CLOUD  CURRENT_TEMP  \\\n",
       "0      4        1000      BR            0       NSC         0            16   \n",
       "1      5        1000      FU            0       NSC         0            18   \n",
       "2      4        1100      FU            0       NSC         0            20   \n",
       "3      4        1100      FU            0       NSC         0            20   \n",
       "4      4        1200      FU            0       NSC         0            21   \n",
       "\n",
       "   DEW_POINT         RH     WS  \n",
       "0         13  82.385952  2.056  \n",
       "1         13  72.582142  2.570  \n",
       "2         13  64.068289  2.056  \n",
       "3         13  64.068289  2.056  \n",
       "4         13  60.236209  2.056  "
      ]
     },
     "execution_count": 2,
     "metadata": {},
     "output_type": "execute_result"
    }
   ],
   "source": [
    "train = pd.read_csv('C:/Users/Jitender kumar/Desktop/Data/train.csv')\n",
    "\n",
    "train.head()"
   ]
  },
  {
   "cell_type": "code",
   "execution_count": 3,
   "metadata": {},
   "outputs": [
    {
     "name": "stdout",
     "output_type": "stream",
     "text": [
      "<class 'pandas.core.frame.DataFrame'>\n",
      "RangeIndex: 13514 entries, 0 to 13513\n",
      "Data columns (total 10 columns):\n",
      "WD_WS           13514 non-null int64\n",
      "VISIBILITY      13514 non-null int64\n",
      "WEATHER         13514 non-null object\n",
      "LOWEST_CLOUD    13514 non-null object\n",
      "LOW_CLOUD       13514 non-null object\n",
      "MID_CLOUD       13514 non-null object\n",
      "CURRENT_TEMP    13514 non-null int64\n",
      "DEW_POINT       13514 non-null int64\n",
      "RH              13514 non-null float64\n",
      "WS              13514 non-null float64\n",
      "dtypes: float64(2), int64(4), object(4)\n",
      "memory usage: 1.0+ MB\n"
     ]
    }
   ],
   "source": [
    "train.info()"
   ]
  },
  {
   "cell_type": "code",
   "execution_count": 4,
   "metadata": {},
   "outputs": [
    {
     "data": {
      "text/plain": [
       "WD_WS           0\n",
       "VISIBILITY      0\n",
       "WEATHER         0\n",
       "LOWEST_CLOUD    0\n",
       "LOW_CLOUD       0\n",
       "MID_CLOUD       0\n",
       "CURRENT_TEMP    0\n",
       "DEW_POINT       0\n",
       "RH              0\n",
       "WS              0\n",
       "dtype: int64"
      ]
     },
     "execution_count": 4,
     "metadata": {},
     "output_type": "execute_result"
    }
   ],
   "source": [
    "train.isnull().sum()"
   ]
  },
  {
   "cell_type": "code",
   "execution_count": 6,
   "metadata": {},
   "outputs": [],
   "source": [
    "weather_mapping = { \"FU\":0, \"HZ\": 1, \"BR\" : 2, \"MIFG\" : 3, \"FG\" : 4,\n",
    "                  \"TS\" : 5, \"FBL RA\" : 6, \"MOD RA\" : 7, \"FBL TSRA\" : 8, \"DZ\" : 9,\n",
    "                  \"RA\" : 10, \"MOD TSRA\" : 11, \"FBL DZ\" : 12, \"FG /FBL RA\" : 13, \"FGF\" : 14,\n",
    "                  \"FBLRA\" : 15, \"TSRA\" : 16, \"FBR\" : 17, \"DZ FG\" : 17, \"HBR\" : 17}\n",
    "\n",
    "train['WEATHER'] = train['WEATHER'].map(weather_mapping)"
   ]
  },
  {
   "cell_type": "code",
   "execution_count": 7,
   "metadata": {},
   "outputs": [
    {
     "data": {
      "text/html": [
       "<div>\n",
       "<style scoped>\n",
       "    .dataframe tbody tr th:only-of-type {\n",
       "        vertical-align: middle;\n",
       "    }\n",
       "\n",
       "    .dataframe tbody tr th {\n",
       "        vertical-align: top;\n",
       "    }\n",
       "\n",
       "    .dataframe thead th {\n",
       "        text-align: right;\n",
       "    }\n",
       "</style>\n",
       "<table border=\"1\" class=\"dataframe\">\n",
       "  <thead>\n",
       "    <tr style=\"text-align: right;\">\n",
       "      <th></th>\n",
       "      <th>WD_WS</th>\n",
       "      <th>VISIBILITY</th>\n",
       "      <th>WEATHER</th>\n",
       "      <th>CURRENT_TEMP</th>\n",
       "      <th>DEW_POINT</th>\n",
       "      <th>RH</th>\n",
       "      <th>WS</th>\n",
       "    </tr>\n",
       "  </thead>\n",
       "  <tbody>\n",
       "    <tr>\n",
       "      <th>WD_WS</th>\n",
       "      <td>1.000000</td>\n",
       "      <td>0.317981</td>\n",
       "      <td>-0.152141</td>\n",
       "      <td>0.333171</td>\n",
       "      <td>-0.123436</td>\n",
       "      <td>-0.389281</td>\n",
       "      <td>1.000000</td>\n",
       "    </tr>\n",
       "    <tr>\n",
       "      <th>VISIBILITY</th>\n",
       "      <td>0.317981</td>\n",
       "      <td>1.000000</td>\n",
       "      <td>-0.473626</td>\n",
       "      <td>0.548794</td>\n",
       "      <td>-0.242300</td>\n",
       "      <td>-0.717190</td>\n",
       "      <td>0.317981</td>\n",
       "    </tr>\n",
       "    <tr>\n",
       "      <th>WEATHER</th>\n",
       "      <td>-0.152141</td>\n",
       "      <td>-0.473626</td>\n",
       "      <td>1.000000</td>\n",
       "      <td>-0.521023</td>\n",
       "      <td>0.115125</td>\n",
       "      <td>0.681503</td>\n",
       "      <td>-0.152141</td>\n",
       "    </tr>\n",
       "    <tr>\n",
       "      <th>CURRENT_TEMP</th>\n",
       "      <td>0.333171</td>\n",
       "      <td>0.548794</td>\n",
       "      <td>-0.521023</td>\n",
       "      <td>1.000000</td>\n",
       "      <td>0.232690</td>\n",
       "      <td>-0.767799</td>\n",
       "      <td>0.333171</td>\n",
       "    </tr>\n",
       "    <tr>\n",
       "      <th>DEW_POINT</th>\n",
       "      <td>-0.123436</td>\n",
       "      <td>-0.242300</td>\n",
       "      <td>0.115125</td>\n",
       "      <td>0.232690</td>\n",
       "      <td>1.000000</td>\n",
       "      <td>0.360318</td>\n",
       "      <td>-0.123436</td>\n",
       "    </tr>\n",
       "    <tr>\n",
       "      <th>RH</th>\n",
       "      <td>-0.389281</td>\n",
       "      <td>-0.717190</td>\n",
       "      <td>0.681503</td>\n",
       "      <td>-0.767799</td>\n",
       "      <td>0.360318</td>\n",
       "      <td>1.000000</td>\n",
       "      <td>-0.389281</td>\n",
       "    </tr>\n",
       "    <tr>\n",
       "      <th>WS</th>\n",
       "      <td>1.000000</td>\n",
       "      <td>0.317981</td>\n",
       "      <td>-0.152141</td>\n",
       "      <td>0.333171</td>\n",
       "      <td>-0.123436</td>\n",
       "      <td>-0.389281</td>\n",
       "      <td>1.000000</td>\n",
       "    </tr>\n",
       "  </tbody>\n",
       "</table>\n",
       "</div>"
      ],
      "text/plain": [
       "                 WD_WS  VISIBILITY   WEATHER  CURRENT_TEMP  DEW_POINT  \\\n",
       "WD_WS         1.000000    0.317981 -0.152141      0.333171  -0.123436   \n",
       "VISIBILITY    0.317981    1.000000 -0.473626      0.548794  -0.242300   \n",
       "WEATHER      -0.152141   -0.473626  1.000000     -0.521023   0.115125   \n",
       "CURRENT_TEMP  0.333171    0.548794 -0.521023      1.000000   0.232690   \n",
       "DEW_POINT    -0.123436   -0.242300  0.115125      0.232690   1.000000   \n",
       "RH           -0.389281   -0.717190  0.681503     -0.767799   0.360318   \n",
       "WS            1.000000    0.317981 -0.152141      0.333171  -0.123436   \n",
       "\n",
       "                    RH        WS  \n",
       "WD_WS        -0.389281  1.000000  \n",
       "VISIBILITY   -0.717190  0.317981  \n",
       "WEATHER       0.681503 -0.152141  \n",
       "CURRENT_TEMP -0.767799  0.333171  \n",
       "DEW_POINT     0.360318 -0.123436  \n",
       "RH            1.000000 -0.389281  \n",
       "WS           -0.389281  1.000000  "
      ]
     },
     "execution_count": 7,
     "metadata": {},
     "output_type": "execute_result"
    }
   ],
   "source": [
    "train.corr()"
   ]
  },
  {
   "cell_type": "code",
   "execution_count": 8,
   "metadata": {},
   "outputs": [
    {
     "name": "stdout",
     "output_type": "stream",
     "text": [
      "<class 'pandas.core.frame.DataFrame'>\n",
      "RangeIndex: 13514 entries, 0 to 13513\n",
      "Data columns (total 10 columns):\n",
      "WD_WS           13514 non-null int64\n",
      "VISIBILITY      13514 non-null int64\n",
      "WEATHER         13514 non-null int64\n",
      "LOWEST_CLOUD    13514 non-null object\n",
      "LOW_CLOUD       13514 non-null object\n",
      "MID_CLOUD       13514 non-null object\n",
      "CURRENT_TEMP    13514 non-null int64\n",
      "DEW_POINT       13514 non-null int64\n",
      "RH              13514 non-null float64\n",
      "WS              13514 non-null float64\n",
      "dtypes: float64(2), int64(5), object(3)\n",
      "memory usage: 1.0+ MB\n"
     ]
    }
   ],
   "source": [
    "train.info()"
   ]
  },
  {
   "cell_type": "code",
   "execution_count": 9,
   "metadata": {},
   "outputs": [],
   "source": [
    "train.to_csv(\"C:\\\\Users\\\\Jitender kumar\\\\Desktop\\\\train.csv\", index=None)"
   ]
  },
  {
   "cell_type": "code",
   "execution_count": null,
   "metadata": {},
   "outputs": [],
   "source": []
  }
 ],
 "metadata": {
  "kernelspec": {
   "display_name": "Python 3",
   "language": "python",
   "name": "python3"
  },
  "language_info": {
   "codemirror_mode": {
    "name": "ipython",
    "version": 3
   },
   "file_extension": ".py",
   "mimetype": "text/x-python",
   "name": "python",
   "nbconvert_exporter": "python",
   "pygments_lexer": "ipython3",
   "version": "3.6.0"
  }
 },
 "nbformat": 4,
 "nbformat_minor": 2
}
