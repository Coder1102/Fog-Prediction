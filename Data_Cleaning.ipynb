{
 "cells": [
  {
   "cell_type": "code",
   "execution_count": 1,
   "metadata": {},
   "outputs": [],
   "source": [
    "import pandas as pd\n",
    "import matplotlib.pyplot as plt\n",
    "import os\n",
    "import numpy as np\n",
    "%matplotlib inline\n",
    "import seaborn as sb\n",
    "import missingno as msn\n",
    "sb.set()"
   ]
  },
  {
   "cell_type": "code",
   "execution_count": 2,
   "metadata": {},
   "outputs": [
    {
     "data": {
      "text/html": [
       "<div>\n",
       "<style scoped>\n",
       "    .dataframe tbody tr th:only-of-type {\n",
       "        vertical-align: middle;\n",
       "    }\n",
       "\n",
       "    .dataframe tbody tr th {\n",
       "        vertical-align: top;\n",
       "    }\n",
       "\n",
       "    .dataframe thead th {\n",
       "        text-align: right;\n",
       "    }\n",
       "</style>\n",
       "<table border=\"1\" class=\"dataframe\">\n",
       "  <thead>\n",
       "    <tr style=\"text-align: right;\">\n",
       "      <th></th>\n",
       "      <th>WD_WS</th>\n",
       "      <th>VISIBILITY</th>\n",
       "      <th>WEATHER</th>\n",
       "      <th>LOWEST_CLOUD</th>\n",
       "      <th>LOW_CLOUD</th>\n",
       "      <th>MID_CLOUD</th>\n",
       "      <th>CURRENT_TEMP</th>\n",
       "      <th>DEW_POINT</th>\n",
       "    </tr>\n",
       "  </thead>\n",
       "  <tbody>\n",
       "    <tr>\n",
       "      <th>0</th>\n",
       "      <td>310/04</td>\n",
       "      <td>1000</td>\n",
       "      <td>BR</td>\n",
       "      <td>0</td>\n",
       "      <td>NSC</td>\n",
       "      <td>0</td>\n",
       "      <td>16</td>\n",
       "      <td>13</td>\n",
       "    </tr>\n",
       "    <tr>\n",
       "      <th>1</th>\n",
       "      <td>280/05</td>\n",
       "      <td>1000</td>\n",
       "      <td>FU</td>\n",
       "      <td>0</td>\n",
       "      <td>NSC</td>\n",
       "      <td>0</td>\n",
       "      <td>18</td>\n",
       "      <td>13</td>\n",
       "    </tr>\n",
       "    <tr>\n",
       "      <th>2</th>\n",
       "      <td>290/04</td>\n",
       "      <td>1100</td>\n",
       "      <td>FU</td>\n",
       "      <td>0</td>\n",
       "      <td>NSC</td>\n",
       "      <td>0</td>\n",
       "      <td>20</td>\n",
       "      <td>13</td>\n",
       "    </tr>\n",
       "    <tr>\n",
       "      <th>3</th>\n",
       "      <td>290/04</td>\n",
       "      <td>1100</td>\n",
       "      <td>FU</td>\n",
       "      <td>0</td>\n",
       "      <td>NSC</td>\n",
       "      <td>0</td>\n",
       "      <td>20</td>\n",
       "      <td>13</td>\n",
       "    </tr>\n",
       "    <tr>\n",
       "      <th>4</th>\n",
       "      <td>290/04</td>\n",
       "      <td>1200</td>\n",
       "      <td>FU</td>\n",
       "      <td>0</td>\n",
       "      <td>NSC</td>\n",
       "      <td>0</td>\n",
       "      <td>21</td>\n",
       "      <td>13</td>\n",
       "    </tr>\n",
       "  </tbody>\n",
       "</table>\n",
       "</div>"
      ],
      "text/plain": [
       "    WD_WS VISIBILITY WEATHER LOWEST_CLOUD LOW_CLOUD MID_CLOUD  CURRENT_TEMP  \\\n",
       "0  310/04       1000      BR            0       NSC         0            16   \n",
       "1  280/05       1000      FU            0       NSC         0            18   \n",
       "2  290/04       1100      FU            0       NSC         0            20   \n",
       "3  290/04       1100      FU            0       NSC         0            20   \n",
       "4  290/04       1200      FU            0       NSC         0            21   \n",
       "\n",
       "   DEW_POINT  \n",
       "0         13  \n",
       "1         13  \n",
       "2         13  \n",
       "3         13  \n",
       "4         13  "
      ]
     },
     "execution_count": 2,
     "metadata": {},
     "output_type": "execute_result"
    }
   ],
   "source": [
    "train = pd.read_csv('C:/Users/Jitender kumar/Desktop/Data/train.csv')\n",
    "\n",
    "train.head()"
   ]
  },
  {
   "cell_type": "code",
   "execution_count": 3,
   "metadata": {},
   "outputs": [
    {
     "data": {
      "text/plain": [
       "WD_WS            0\n",
       "VISIBILITY       1\n",
       "WEATHER         95\n",
       "LOWEST_CLOUD     1\n",
       "LOW_CLOUD        0\n",
       "MID_CLOUD        0\n",
       "CURRENT_TEMP     0\n",
       "DEW_POINT        0\n",
       "dtype: int64"
      ]
     },
     "execution_count": 3,
     "metadata": {},
     "output_type": "execute_result"
    }
   ],
   "source": [
    "train.isnull().sum()"
   ]
  },
  {
   "cell_type": "code",
   "execution_count": 4,
   "metadata": {},
   "outputs": [
    {
     "data": {
      "text/plain": [
       "2500           1131\n",
       "1500           1109\n",
       "1000            980\n",
       "1200            921\n",
       "2200            902\n",
       "3500            822\n",
       "800             743\n",
       "3000            699\n",
       "1800            523\n",
       "2000            482\n",
       "600             438\n",
       "4000            384\n",
       "500             373\n",
       "2100            345\n",
       "1600            325\n",
       "700             310\n",
       "1100            280\n",
       "1300            265\n",
       "900             235\n",
       "50              234\n",
       "400             227\n",
       "1400            209\n",
       "2800            204\n",
       "300             200\n",
       "3200            166\n",
       "1700            165\n",
       "200             127\n",
       "100             120\n",
       "5000            101\n",
       "350              74\n",
       "               ... \n",
       "2300             60\n",
       "4500             53\n",
       "250              37\n",
       "2600             20\n",
       "6000             18\n",
       "0                18\n",
       "2400             17\n",
       "2700             17\n",
       "3100             16\n",
       "3800             15\n",
       "1900             15\n",
       "24               15\n",
       " BELOW 0050      10\n",
       "ABV 2000         10\n",
       "3300              7\n",
       "1050              6\n",
       "750               5\n",
       "650               5\n",
       "100/03            5\n",
       "3400              3\n",
       "2900              2\n",
       "4200              1\n",
       "1150              1\n",
       "550               1\n",
       "75                1\n",
       "450               1\n",
       "BR                1\n",
       "10                1\n",
       "31009             1\n",
       "8                 1\n",
       "Name: VISIBILITY, Length: 61, dtype: int64"
      ]
     },
     "execution_count": 4,
     "metadata": {},
     "output_type": "execute_result"
    }
   ],
   "source": [
    "train.VISIBILITY.value_counts()"
   ]
  },
  {
   "cell_type": "code",
   "execution_count": 5,
   "metadata": {},
   "outputs": [
    {
     "data": {
      "text/plain": [
       "2500           1131\n",
       "1500           1109\n",
       "1000            980\n",
       "1200            921\n",
       "2200            902\n",
       "3500            822\n",
       "800             743\n",
       "3000            699\n",
       "1800            523\n",
       "2000            482\n",
       "600             438\n",
       "4000            384\n",
       "500             373\n",
       "2100            345\n",
       "1600            325\n",
       "700             310\n",
       "1100            280\n",
       "1300            265\n",
       "900             235\n",
       "50              234\n",
       "400             227\n",
       "1400            209\n",
       "2800            204\n",
       "300             200\n",
       "3200            166\n",
       "1700            165\n",
       "200             127\n",
       "100             120\n",
       "5000            101\n",
       "350              74\n",
       "               ... \n",
       "2300             60\n",
       "4500             53\n",
       "250              37\n",
       "2600             20\n",
       "6000             18\n",
       "0                18\n",
       "2400             17\n",
       "2700             17\n",
       "3100             16\n",
       "3800             15\n",
       "1900             15\n",
       "24               15\n",
       " BELOW 0050      10\n",
       "ABV 2000         10\n",
       "3300              7\n",
       "1050              6\n",
       "750               5\n",
       "650               5\n",
       "100/03            5\n",
       "3400              3\n",
       "2900              2\n",
       "4200              1\n",
       "1150              1\n",
       "550               1\n",
       "75                1\n",
       "450               1\n",
       "BR                1\n",
       "10                1\n",
       "31009             1\n",
       "8                 1\n",
       "Name: VISIBILITY, Length: 61, dtype: int64"
      ]
     },
     "execution_count": 5,
     "metadata": {},
     "output_type": "execute_result"
    }
   ],
   "source": [
    "train = train.replace(to_replace = \"BELOW 0050\", value =50)\n",
    "train = train.replace(to_replace = \"500M\", value =500)\n",
    "train = train.replace(to_replace = \"BLW 50M\", value =50)\n",
    "train = train.replace(to_replace = \"700M\", value =700)\n",
    "train = train.replace(to_replace = \"2200M\", value =2200)\n",
    "train = train.replace(to_replace = \"900M\", value =900)\n",
    "train = train.replace(to_replace = \"BELW 0050\", value =50)\n",
    "train = train.replace(to_replace = \"2800M\", value =2800)\n",
    "train = train.replace(to_replace = \"0500M\", value =500)\n",
    "train = train.replace(to_replace = \"2000M\", value =2000)\n",
    "train = train.replace(to_replace = \"BLW0050\", value =50)\n",
    "train = train.replace(to_replace = \"800M\", value =800)\n",
    "train = train.replace(to_replace = \"0700M\", value =700)\n",
    "train = train.replace(to_replace = \"400M\", value =400)\n",
    "train = train.replace(to_replace = \"0050M\", value =50)\n",
    "train = train.replace(to_replace = \"2200-\", value =2200)\n",
    "train = train.replace(to_replace = \"3100M\", value =3100)\n",
    "train = train.replace(to_replace = \"  0400                        0300\", value =400)\n",
    "train = train.replace(to_replace = \"2500M\", value =2500)\n",
    "train = train.replace(to_replace = \"3000M\", value =3000)\n",
    "train = train.replace(to_replace = \"1200M\", value =1200)\n",
    "train = train.replace(to_replace = \"1500M\", value =1500)\n",
    "train = train.replace(to_replace = \"3200M\", value =3200)\n",
    "train = train.replace(to_replace = \"BLW 0050M\", value =50)\n",
    "train = train.replace(to_replace = \"3200M\", value =3200)\n",
    "train = train.replace(to_replace = \"BELOW0050\", value =50)\n",
    "train = train.replace(to_replace = \"BLW50\", value =50)\n",
    "train = train.replace(to_replace = \"600M\", value =600)\n",
    "#train = train.replace(to_replace = \"\", value =)\n",
    "\n",
    "train.VISIBILITY.value_counts()"
   ]
  },
  {
   "cell_type": "code",
   "execution_count": 6,
   "metadata": {},
   "outputs": [
    {
     "data": {
      "text/plain": [
       "WD_WS            0\n",
       "VISIBILITY       1\n",
       "WEATHER         95\n",
       "LOWEST_CLOUD     1\n",
       "LOW_CLOUD        0\n",
       "MID_CLOUD        0\n",
       "CURRENT_TEMP     0\n",
       "DEW_POINT        0\n",
       "dtype: int64"
      ]
     },
     "execution_count": 6,
     "metadata": {},
     "output_type": "execute_result"
    }
   ],
   "source": [
    "train.isnull().sum()"
   ]
  },
  {
   "cell_type": "code",
   "execution_count": 7,
   "metadata": {},
   "outputs": [],
   "source": [
    "train = train.replace(to_replace = \"`BR\", value ='BR')\n",
    "train = train.replace(to_replace = \"`FU\", value ='FU')\n",
    "train = train.replace(to_replace = \"fu\", value ='FU')\n",
    "train = train.replace(to_replace = \" BR\", value ='BR')\n",
    "train = train.replace(to_replace = \" HZ\", value ='HZ')\n",
    "train = train.replace(to_replace = \"fg\", value ='FG')\n",
    "train = train.replace(to_replace = \" TS\", value ='TS')\n",
    "train = train.replace(to_replace = \"br\", value ='BR')\n",
    "train = train.replace(to_replace = \"BR`\", value ='BR')\n",
    "train = train.replace(to_replace = \"mifg\", value ='MIFG')\n",
    "train = train.replace(to_replace = \"NIFG\", value ='MIFG')\n",
    "train = train.replace(to_replace = \"MIFG=\", value ='MIFG')\n",
    "train = train.replace(to_replace = \"dZ\", value ='DZ')\n",
    "train = train.replace(to_replace = \"hz\", value ='HZ')\n",
    "train = train.replace(to_replace = \" RA\", value ='RA')\n",
    "train = train.replace(to_replace = \" FBL RA\", value ='FBL RA')\n",
    "train = train.replace(to_replace = \" FBL DZ\", value ='FBL DZ')\n",
    "train = train.replace(to_replace = \"FY\", value ='FU')\n",
    "train = train.replace(to_replace = \"HZ \", value ='HZ')\n",
    "train = train.replace(to_replace = \"BR \", value ='BR')\n",
    "train = train.replace(to_replace = \"FU \", value ='FU')\n",
    "train = train.replace(to_replace = \"HZ  \", value ='HZ')\n",
    "train = train.replace(to_replace = \"FU  \", value ='FU')\n",
    "train = train.replace(to_replace = \"BR  \", value ='BR')"
   ]
  },
  {
   "cell_type": "code",
   "execution_count": 8,
   "metadata": {},
   "outputs": [
    {
     "name": "stdout",
     "output_type": "stream",
     "text": [
      "<class 'pandas.core.frame.DataFrame'>\n",
      "RangeIndex: 13524 entries, 0 to 13523\n",
      "Data columns (total 8 columns):\n",
      "WD_WS           13524 non-null object\n",
      "VISIBILITY      13523 non-null object\n",
      "WEATHER         13429 non-null object\n",
      "LOWEST_CLOUD    13523 non-null object\n",
      "LOW_CLOUD       13524 non-null object\n",
      "MID_CLOUD       13524 non-null object\n",
      "CURRENT_TEMP    13524 non-null int64\n",
      "DEW_POINT       13524 non-null int64\n",
      "dtypes: int64(2), object(6)\n",
      "memory usage: 845.3+ KB\n"
     ]
    }
   ],
   "source": [
    "train.info()"
   ]
  },
  {
   "cell_type": "code",
   "execution_count": 9,
   "metadata": {},
   "outputs": [
    {
     "name": "stderr",
     "output_type": "stream",
     "text": [
      "c:\\users\\jitender kumar\\appdata\\local\\programs\\python\\python36\\lib\\site-packages\\ipykernel_launcher.py:4: SettingWithCopyWarning: \n",
      "A value is trying to be set on a copy of a slice from a DataFrame\n",
      "\n",
      "See the caveats in the documentation: http://pandas.pydata.org/pandas-docs/stable/indexing.html#indexing-view-versus-copy\n",
      "  after removing the cwd from sys.path.\n"
     ]
    }
   ],
   "source": [
    "for i in range(len(train['WD_WS'])):\n",
    "    if '/' in train['WD_WS'][i]:\n",
    "        speed = train['WD_WS'][i].split('/')\n",
    "        train['WD_WS'][i] = int(speed[-1])"
   ]
  },
  {
   "cell_type": "code",
   "execution_count": 10,
   "metadata": {},
   "outputs": [],
   "source": [
    "train.to_csv(\"C:\\\\Users\\\\Jitender kumar\\\\Desktop\\\\train.csv\", index=None)"
   ]
  },
  {
   "cell_type": "code",
   "execution_count": null,
   "metadata": {},
   "outputs": [],
   "source": []
  }
 ],
 "metadata": {
  "kernelspec": {
   "display_name": "Python 3",
   "language": "python",
   "name": "python3"
  },
  "language_info": {
   "codemirror_mode": {
    "name": "ipython",
    "version": 3
   },
   "file_extension": ".py",
   "mimetype": "text/x-python",
   "name": "python",
   "nbconvert_exporter": "python",
   "pygments_lexer": "ipython3",
   "version": "3.6.0"
  }
 },
 "nbformat": 4,
 "nbformat_minor": 2
}
